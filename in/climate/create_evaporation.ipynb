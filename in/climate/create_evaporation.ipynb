{
 "cells": [
  {
   "cell_type": "code",
   "execution_count": 1,
   "metadata": {},
   "outputs": [],
   "source": [
    "import pandas as pd\n",
    "from datetime import datetime"
   ]
  },
  {
   "cell_type": "code",
   "execution_count": 11,
   "metadata": {},
   "outputs": [],
   "source": [
    "# Function to generate evaporation.dat file from CSV (with user-specified column for evapotranspiration in mm)\n",
    "def create_evaporation_dat(csv_file, evap_column, output_file):\n",
    "    # Read the CSV file\n",
    "    df = pd.read_csv(csv_file)\n",
    "    \n",
    "    # Ensure that the Date column is in datetime format\n",
    "    df['date'] = pd.to_datetime(df['date'])\n",
    "    \n",
    "    # Convert evapotranspiration from millimeters (mm) to meters (m)\n",
    "    df['Evapotranspiration_m'] = df[evap_column] / 1000  # 1 mm = 0.001 m\n",
    "    \n",
    "    # Calculate evaporation and transpiration values\n",
    "    df['Evaporation'] = 0.70 * df['Evapotranspiration_m']  # 70% of evapotranspiration\n",
    "    df['Transpiration'] = 0.30 * df['Evapotranspiration_m']  # 30% of evapotranspiration\n",
    "    root_zone_depth = 0.6  # Constant root zone depth in meters\n",
    "    \n",
    "    # Reference date (start date in the CSV)\n",
    "    reference_date = df['date'].min()\n",
    "    \n",
    "    # Conversion factors\n",
    "    time_conversion_factor = 86400  # 1 day = 86400 seconds\n",
    "    flux_conversion_factor = 1.157407408e-5\n",
    "    \n",
    "    # Open the output .dat file for writing\n",
    "    with open(output_file, 'w') as f:\n",
    "        # Write the header (File type, Date, and conversion factors)\n",
    "        f.write(f\"2 1\\n\")\n",
    "        f.write(f\"{reference_date.strftime('%d.%m.%Y %H:%M:%S.%f')[:-3]} {time_conversion_factor} {flux_conversion_factor}\\n\")\n",
    "        \n",
    "        # Write the data\n",
    "        for idx, row in df.iterrows():\n",
    "            # Calculate time offset in days and convert to seconds\n",
    "            time_offset_days = (row['date'] - reference_date).days\n",
    "            time_offset_seconds = time_offset_days * time_conversion_factor\n",
    "            \n",
    "            # Write time offset, evaporation, transpiration, and root zone depth\n",
    "            f.write(f\"{time_offset_seconds} {row['Evaporation']} {row['Transpiration']} {root_zone_depth}\\n\")"
   ]
  },
  {
   "cell_type": "code",
   "execution_count": 12,
   "metadata": {},
   "outputs": [],
   "source": [
    "# Example usage\n",
    "csv_file = r'C:\\Users\\as2023\\bwSyncShare\\01_Analysis\\02_Europe_Flood\\03_CATFLOW\\in\\climate\\testde_3.csv'\n",
    "output_file = r'C:\\Users\\as2023\\bwSyncShare\\01_Analysis\\02_Europe_Flood\\03_CATFLOW\\in\\climate\\evaporation_lstm.dat'\n",
    "evap_column = 'evap_lstm_column'  # Specify the evapotranspiration column name\n",
    "create_evaporation_dat(csv_file, evap_column, output_file)\n"
   ]
  }
 ],
 "metadata": {
  "kernelspec": {
   "display_name": "base",
   "language": "python",
   "name": "python3"
  },
  "language_info": {
   "codemirror_mode": {
    "name": "ipython",
    "version": 3
   },
   "file_extension": ".py",
   "mimetype": "text/x-python",
   "name": "python",
   "nbconvert_exporter": "python",
   "pygments_lexer": "ipython3",
   "version": "3.11.5"
  }
 },
 "nbformat": 4,
 "nbformat_minor": 2
}
